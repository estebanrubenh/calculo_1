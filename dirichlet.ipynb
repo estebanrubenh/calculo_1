{
 "cells": [
  {
   "cell_type": "markdown",
   "id": "45cf38ac-e98e-428e-9105-b1a6001f6c3f",
   "metadata": {},
   "source": [
    "# Graficando la función de Dirichlet\n",
    "\n",
    "En este notebook se grafica la función de Dirichlet,\n",
    "\\begin{equation}\n",
    "    D\\left( x \\right) =     \\begin{cases}\n",
    "        1 & \\text{si } x \\in \\mathbb{Q}\\\\\n",
    "        0 & \\text{si } x \\in \\mathbb{R}\\setminus\\mathbb{Q}\n",
    "    \\end{cases}\n",
    "   ,\n",
    "\\end{equation}\n",
    "utilizando _[calculo simbolico](https://es.wikipedia.org/wiki/C%C3%A1lculo_simb%C3%B3lico)_. Una exploración numérica no sirve porque los números de puntos flotante son racionales todos por definición. \n",
    "\n",
    "En python se utiliza la libreria `sympy` para hacer cálculo simbólico: _sym_ symbolic y _py_ de python."
   ]
  },
  {
   "cell_type": "code",
   "execution_count": 7,
   "id": "7c0237ae-5c8c-42fe-9f9d-f60736c3048d",
   "metadata": {},
   "outputs": [],
   "source": [
    "import sympy\n",
    "from sympy import *"
   ]
  },
  {
   "cell_type": "markdown",
   "id": "96cc6d25-0b0c-4442-ba2c-3da0d2b59da8",
   "metadata": {},
   "source": [
    "Definimos la función Dirichlet con la ayuda de dos elementos de `sympy`: la funcion `nsimplify`, que simplifica la representacion de un numero; y el método `is_rational` de `sympy`, que evalua si un elemento es racional o no."
   ]
  },
  {
   "cell_type": "code",
   "execution_count": 8,
   "id": "366d7432-4885-4ed1-8045-13e8a0cd109b",
   "metadata": {},
   "outputs": [],
   "source": [
    "def dirichlet(x):\n",
    "    if nsimplify(x).is_rational:\n",
    "        return 1\n",
    "    else:\n",
    "        return 0"
   ]
  },
  {
   "cell_type": "markdown",
   "id": "490b3605-17ba-4340-8c89-4a8d922aedf7",
   "metadata": {},
   "source": [
    "Probemos con $\\frac{1}{e}$, que es irracional. La funcion `exp` tambien regresa un valor simbolico: "
   ]
  },
  {
   "cell_type": "code",
   "execution_count": 44,
   "id": "2fe787e1-7a34-48b9-9aba-103866f64f43",
   "metadata": {},
   "outputs": [
    {
     "data": {
      "text/latex": [
       "$\\displaystyle e^{-1}$"
      ],
      "text/plain": [
       "exp(-1)"
      ]
     },
     "execution_count": 44,
     "metadata": {},
     "output_type": "execute_result"
    }
   ],
   "source": [
    "a = exp(-1)\n",
    "a"
   ]
  },
  {
   "cell_type": "markdown",
   "id": "8b54e2a3-5938-42f9-93f6-544ea1bdb112",
   "metadata": {},
   "source": [
    "Evaluando la funcion de Dirichlet en  $e^{-1}$ deberia dar 0,"
   ]
  },
  {
   "cell_type": "code",
   "execution_count": 46,
   "id": "739129a8-25d5-4e52-a8f1-6cc40ad97ab5",
   "metadata": {},
   "outputs": [
    {
     "data": {
      "text/plain": [
       "0"
      ]
     },
     "execution_count": 46,
     "metadata": {},
     "output_type": "execute_result"
    }
   ],
   "source": [
    "dirichlet(a)"
   ]
  },
  {
   "cell_type": "markdown",
   "id": "fa71a2f9-fc8a-4d12-b1f4-f560a13b0047",
   "metadata": {},
   "source": [
    "Ahora tomemos un racional, digamos $5/99$"
   ]
  },
  {
   "cell_type": "code",
   "execution_count": 48,
   "id": "ec0a8cd0-fa88-46e9-8add-42b813f63636",
   "metadata": {},
   "outputs": [
    {
     "data": {
      "text/plain": [
       "1"
      ]
     },
     "execution_count": 48,
     "metadata": {},
     "output_type": "execute_result"
    }
   ],
   "source": [
    "dirichlet(5/99)"
   ]
  },
  {
   "cell_type": "markdown",
   "id": "6cdf826e-8a87-4c0c-b8c3-fe8c0571488b",
   "metadata": {},
   "source": [
    "Parece que no hay problema. Vamos a graficar la funcion. Para graficar la funcion voy a construir los pares ordenados $$(x, D(x))$$ para racionales e irracionales muy especificos:\n",
    "\n",
    "Los racionales que consideramos son de la forma $$\\frac{i}{50} $$ y $$\\frac{3i}{50\\pi},$$ con $i=1,2,\\cdots, 50$ en ambos casos."
   ]
  },
  {
   "cell_type": "code",
   "execution_count": 49,
   "id": "ced7dd7f-385e-4c33-80d5-f33295bd12a7",
   "metadata": {},
   "outputs": [
    {
     "data": {
      "text/plain": [
       "<function matplotlib.pyplot.show(close=None, block=None)>"
      ]
     },
     "execution_count": 49,
     "metadata": {},
     "output_type": "execute_result"
    },
    {
     "data": {
      "image/png": "[encoded data removed]",
      "text/plain": [
       "<Figure size 640x480 with 1 Axes>"
      ]
     },
     "metadata": {},
     "output_type": "display_data"
    }
   ],
   "source": [
    "###################################################\n",
    "# En las siguientes lineas se define el domino:   #\n",
    "# algunos racionales e irracionales especificos.  #\n",
    "###################################################\n",
    "algunosRacionales = []\n",
    "algunosIrracionales = []\n",
    "\n",
    "puntos = 50\n",
    "for i in range(puntos): algunosRacionales.append((i+1)/puntos)\n",
    "for i in range(puntos): algunosIrracionales.append((i+1)*3/(sympy.pi * puntos))\n",
    "\n",
    "###################################################\n",
    "# Se evalua la funcion dirichlet en el dominio    #\n",
    "# y se guarda en un par de listas: una para       #\n",
    "# racionales y otra para irracionales             #\n",
    "###################################################\n",
    "dirichletQ = []\n",
    "dirichletNoQ = []\n",
    "\n",
    "for x in algunosRacionales: dirichletQ.append(dirichlet(x))\n",
    "for x in algunosIrracionales: dirichletNoQ.append(dirichlet(x))\n",
    "\n",
    "\n",
    "###################################################\n",
    "# Se grafica la funcion con los pares ordenados   #\n",
    "# que construimos                                 #\n",
    "###################################################\n",
    "\n",
    "import matplotlib.pyplot as plt\n",
    "\n",
    "plt.scatter(algunosRacionales, dirichletQ, color = 'b')\n",
    "plt.scatter(algunosIrracionales, dirichletNoQ, color = 'b')\n",
    "plt.show"
   ]
  },
  {
   "cell_type": "markdown",
   "id": "2cc55168-c4cf-4480-bdde-2d7a1f87dbdf",
   "metadata": {},
   "source": [
    "## Ejercicio\n",
    "\n",
    "Grafica la funcion $f(x)=xD(x)$, donde $D(x)$ es la funcion de Dirichlet"
   ]
  }
 ],
 "metadata": {
  "kernelspec": {
   "display_name": "Python 3 (ipykernel)",
   "language": "python",
   "name": "python3"
  },
  "language_info": {
   "codemirror_mode": {
    "name": "ipython",
    "version": 3
   },
   "file_extension": ".py",
   "mimetype": "text/x-python",
   "name": "python",
   "nbconvert_exporter": "python",
   "pygments_lexer": "ipython3",
   "version": "3.10.7"
  }
 },
 "nbformat": 4,
 "nbformat_minor": 5
}
