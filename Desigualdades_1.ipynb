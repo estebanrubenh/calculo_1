{
 "cells": [
  {
   "cell_type": "markdown",
   "id": "fbe5875d",
   "metadata": {},
   "source": [
    "# Resolviendo desigualdades $\\color{red}{ax+b\\leq C}$"
   ]
  },
  {
   "cell_type": "markdown",
   "id": "03124114",
   "metadata": {},
   "source": [
    "Ejemplo: Hallar las soluciones de las desigualdades \n",
    "$$x+2\\leq 8$$\n",
    "$$(x+2(4x-5))>5(2x-3)$$\n",
    "$$|x|>1$$\n",
    "$$x^2+4x+3\\leq 0$$"
   ]
  },
  {
   "cell_type": "code",
   "execution_count": 2,
   "id": "2d1aced4",
   "metadata": {},
   "outputs": [
    {
     "name": "stdout",
     "output_type": "stream",
     "text": [
      "(-oo < x) & (x <= 6)\n",
      "(-oo < x) & (x < 5)\n",
      "((-oo < x) & (x < -1)) | ((1 < x) & (x < oo))\n",
      "(-3 <= x) & (x <= -1)\n"
     ]
    }
   ],
   "source": [
    "from sympy import Symbol\n",
    "from sympy.solvers.inequalities import solve_univariate_inequality\n",
    "\n",
    "x=Symbol('x')\n",
    "a=solve_univariate_inequality(x+2<=8,x)\n",
    "print(a)\n",
    "b=solve_univariate_inequality(x+(2*(4*x-5))>5*(2*x-3),x)\n",
    "print(b)\n",
    "c=solve_univariate_inequality(abs(x)>1,x)\n",
    "print(c)\n",
    "d=solve_univariate_inequality(x**2+4*x+3<=0,x)\n",
    "print(d)"
   ]
  },
  {
   "cell_type": "markdown",
   "id": "a03d5d81",
   "metadata": {},
   "source": [
    "Ejercicio: Hallar las soluciones de las desigualdades \n",
    "$$(x+2)(x-1)\\leq 8$$\n",
    "$$(x+2)(4x-5)>(5-x)(2x-3)$$\n",
    "$$|x|\\leq 1$$\n",
    "$$5x^2+4x+1\\leq 0$$"
   ]
  },
  {
   "cell_type": "code",
   "execution_count": null,
   "id": "091f0a2d",
   "metadata": {},
   "outputs": [],
   "source": []
  }
 ],
 "metadata": {
  "kernelspec": {
   "display_name": "Python 3 (ipykernel)",
   "language": "python",
   "name": "python3"
  },
  "language_info": {
   "codemirror_mode": {
    "name": "ipython",
    "version": 3
   },
   "file_extension": ".py",
   "mimetype": "text/x-python",
   "name": "python",
   "nbconvert_exporter": "python",
   "pygments_lexer": "ipython3",
   "version": "3.9.7"
  }
 },
 "nbformat": 4,
 "nbformat_minor": 5
}
